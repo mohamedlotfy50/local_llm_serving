{
 "cells": [
  {
   "cell_type": "code",
   "execution_count": 1,
   "id": "dac183ed",
   "metadata": {},
   "outputs": [],
   "source": [
    "from infrastructure.auto_regressive_text_batch import AutoRegressiveTextBatch\n",
    "from core.conversation import Conversation\n",
    "from core.message import Message\n",
    "from infrastructure.auto_regressive_text_model import AutoRegressiveTextModel\n",
    "import uuid\n",
    "from infrastructure.padding_side import PaddingSide"
   ]
  },
  {
   "cell_type": "code",
   "execution_count": 2,
   "id": "f9f88ba1",
   "metadata": {},
   "outputs": [],
   "source": [
    "model_path =\"assets\\\\Qwen2_0.5B_Instruct\""
   ]
  },
  {
   "cell_type": "code",
   "execution_count": 3,
   "id": "564e216c",
   "metadata": {},
   "outputs": [],
   "source": [
    "conversation1 = Conversation(messages=[\n",
    "\n",
    "    Message(role='system', content=\"You are a helpful assistant.\"),\n",
    "    Message(role='user', content=\"Give me a short introduction to large language model.\"),\n",
    "    \n",
    "])"
   ]
  },
  {
   "cell_type": "code",
   "execution_count": 4,
   "id": "a9a0caea",
   "metadata": {},
   "outputs": [],
   "source": [
    "conversation2 = Conversation(messages=[\n",
    "    Message(role='user', content=\"Give me name for my small dog that has blue eyes and his color is white\"),  \n",
    "])"
   ]
  },
  {
   "cell_type": "code",
   "execution_count": 5,
   "id": "6ec79606",
   "metadata": {},
   "outputs": [
    {
     "name": "stderr",
     "output_type": "stream",
     "text": [
      "Sliding Window Attention is enabled but not implemented for `sdpa`; unexpected results may be encountered.\n"
     ]
    }
   ],
   "source": [
    "model = AutoRegressiveTextModel(model_path=model_path,padding_side=PaddingSide.left)\n",
    "model.load_model()"
   ]
  },
  {
   "cell_type": "code",
   "execution_count": 6,
   "id": "99ba39e0",
   "metadata": {},
   "outputs": [
    {
     "name": "stdout",
     "output_type": "stream",
     "text": [
      "left\n"
     ]
    }
   ],
   "source": [
    "print(model.padding_side.value)"
   ]
  },
  {
   "cell_type": "code",
   "execution_count": 7,
   "id": "61177bb4",
   "metadata": {},
   "outputs": [],
   "source": [
    "batch_input = AutoRegressiveTextBatch(conversations_list=[conversation1, conversation2],\n",
    "                              attention_mask_list=[None, None],\n",
    "                              input_ids_list=[None, None],\n",
    "                              past_key_values=[None, None],\n",
    "                              embedding_list=[None,None],\n",
    "                              ids=[str(uuid.uuid4()), str(uuid.uuid4())],\n",
    "                              is_done_list=[False, False],\n",
    "                              next_tokens_ids_list=[None, None],\n",
    "                              next_tokens_list=[None, None],)"
   ]
  },
  {
   "cell_type": "code",
   "execution_count": 19,
   "id": "ac10a246",
   "metadata": {},
   "outputs": [],
   "source": [
    "processed_input_batch = model.process_batch_input(\n",
    "    auto_regressive_batch=batch_input\n",
    ")"
   ]
  },
  {
   "cell_type": "code",
   "execution_count": 20,
   "id": "653e71e4",
   "metadata": {},
   "outputs": [
    {
     "data": {
      "text/plain": [
       "tensor([1, 1, 1, 1, 1, 1, 1, 1, 1, 1, 1, 1, 1, 1, 1, 1, 1, 1, 1, 1, 1, 1, 1, 1,\n",
       "        1, 1, 1, 1, 1])"
      ]
     },
     "execution_count": 20,
     "metadata": {},
     "output_type": "execute_result"
    }
   ],
   "source": [
    "processed_input_batch.attention_mask_list[0]"
   ]
  },
  {
   "cell_type": "code",
   "execution_count": 21,
   "id": "2d640ded",
   "metadata": {},
   "outputs": [
    {
     "data": {
      "text/plain": [
       "tensor([151644,   8948,    198,   2610,    525,    264,  10950,  17847,     13,\n",
       "        151645,    198, 151644,    872,    198,  35127,    752,    264,   2805,\n",
       "         16800,    311,   3460,   4128,   1614,     13, 151645,    198, 151644,\n",
       "         77091,    198])"
      ]
     },
     "execution_count": 21,
     "metadata": {},
     "output_type": "execute_result"
    }
   ],
   "source": [
    "processed_input_batch.input_ids_list[0]"
   ]
  },
  {
   "cell_type": "code",
   "execution_count": 22,
   "id": "ea1f2e5b",
   "metadata": {},
   "outputs": [],
   "source": [
    "removed_batch_padding = model.remove_batch_padding(\n",
    "    auto_regressive_batch=processed_input_batch\n",
    ")"
   ]
  },
  {
   "cell_type": "code",
   "execution_count": 23,
   "id": "3f71bf9d",
   "metadata": {},
   "outputs": [
    {
     "data": {
      "text/plain": [
       "tensor([151644,   8948,    198,   2610,    525,    264,  10950,  17847,     13,\n",
       "        151645,    198, 151644,    872,    198,  35127,    752,    264,   2805,\n",
       "         16800,    311,   3460,   4128,   1614,     13, 151645,    198, 151644,\n",
       "         77091,    198])"
      ]
     },
     "execution_count": 23,
     "metadata": {},
     "output_type": "execute_result"
    }
   ],
   "source": [
    "removed_batch_padding.input_ids_list[0]"
   ]
  },
  {
   "cell_type": "code",
   "execution_count": 24,
   "id": "a05454ae",
   "metadata": {},
   "outputs": [],
   "source": [
    "padded_batch = model.apply_batch_padding(\n",
    "    auto_regressive_batch=removed_batch_padding\n",
    ")"
   ]
  },
  {
   "cell_type": "code",
   "execution_count": 25,
   "id": "d236b63a",
   "metadata": {},
   "outputs": [],
   "source": [
    "model_output = model.forward(auto_regressive_batch=padded_batch)"
   ]
  },
  {
   "cell_type": "code",
   "execution_count": 26,
   "id": "7610f588",
   "metadata": {},
   "outputs": [],
   "source": [
    "processed_model_output = model.remove_batch_padding(auto_regressive_batch=model_output)"
   ]
  },
  {
   "cell_type": "code",
   "execution_count": 27,
   "id": "963b62e6",
   "metadata": {},
   "outputs": [
    {
     "data": {
      "text/plain": [
       "['A', 'Your']"
      ]
     },
     "execution_count": 27,
     "metadata": {},
     "output_type": "execute_result"
    }
   ],
   "source": [
    "processed_model_output.next_tokens_list"
   ]
  },
  {
   "cell_type": "code",
   "execution_count": 28,
   "id": "8fc9df73",
   "metadata": {},
   "outputs": [],
   "source": [
    "output = model(batch_input)"
   ]
  },
  {
   "cell_type": "code",
   "execution_count": 29,
   "id": "3b36000b",
   "metadata": {},
   "outputs": [
    {
     "data": {
      "text/plain": [
       "['A', 'Your']"
      ]
     },
     "execution_count": 29,
     "metadata": {},
     "output_type": "execute_result"
    }
   ],
   "source": [
    "output.next_tokens_list"
   ]
  },
  {
   "cell_type": "code",
   "execution_count": null,
   "id": "047404d9",
   "metadata": {},
   "outputs": [],
   "source": []
  }
 ],
 "metadata": {
  "kernelspec": {
   "display_name": "llm_server",
   "language": "python",
   "name": "python3"
  },
  "language_info": {
   "codemirror_mode": {
    "name": "ipython",
    "version": 3
   },
   "file_extension": ".py",
   "mimetype": "text/x-python",
   "name": "python",
   "nbconvert_exporter": "python",
   "pygments_lexer": "ipython3",
   "version": "3.10.16"
  }
 },
 "nbformat": 4,
 "nbformat_minor": 5
}
