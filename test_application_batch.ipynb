{
 "cells": [
  {
   "cell_type": "code",
   "execution_count": 1,
   "id": "ba0ce1b5",
   "metadata": {},
   "outputs": [],
   "source": [
    "from flask import Flask, request, jsonify, stream_with_context, Response\n",
    "from typing import Dict\n",
    "import uuid\n",
    "from core.conversation import Conversation\n",
    "import threading\n",
    "from infrastructure.auto_regressive_text_model import AutoRegressiveTextModel\n",
    "import torch\n",
    "from presentation.data_request import DataRequest\n",
    "from application.apllication_batch_processor import ApplicationBatchProcessor\n",
    "from core.supported_tasks import SupportedTasks\n",
    "from core.message import Message\n"
   ]
  },
  {
   "cell_type": "code",
   "execution_count": 2,
   "id": "7514bb5f",
   "metadata": {},
   "outputs": [],
   "source": [
    "def get_gpu_usage():\n",
    "    print(\"torch.cuda.memory_allocated: %fGB\"%(torch.cuda.memory_allocated(0)/1024/1024/1024))\n",
    "    print(\"torch.cuda.memory_reserved: %fGB\"%(torch.cuda.memory_reserved(0)/1024/1024/1024))\n",
    "    print(\"torch.cuda.max_memory_reserved: %fGB\"%(torch.cuda.max_memory_reserved(0)/1024/1024/1024))"
   ]
  },
  {
   "cell_type": "code",
   "execution_count": 3,
   "id": "149831a5",
   "metadata": {},
   "outputs": [],
   "source": [
    "model_path = \"assets\\\\Qwen2_0.5B_Instruct\"\n",
    "max_batch_size = 2"
   ]
  },
  {
   "cell_type": "code",
   "execution_count": 4,
   "id": "f0544f15",
   "metadata": {},
   "outputs": [
    {
     "name": "stdout",
     "output_type": "stream",
     "text": [
      "torch.cuda.memory_allocated: 0.000000GB\n",
      "torch.cuda.memory_reserved: 0.000000GB\n",
      "torch.cuda.max_memory_reserved: 0.000000GB\n"
     ]
    }
   ],
   "source": [
    "get_gpu_usage()"
   ]
  },
  {
   "cell_type": "code",
   "execution_count": 5,
   "id": "6379ef09",
   "metadata": {},
   "outputs": [
    {
     "name": "stderr",
     "output_type": "stream",
     "text": [
      "Sliding Window Attention is enabled but not implemented for `sdpa`; unexpected results may be encountered.\n"
     ]
    }
   ],
   "source": [
    "model = AutoRegressiveTextModel(model_path=model_path, device='cuda')\n",
    "\n",
    "app_processor = ApplicationBatchProcessor(\n",
    "    max_batch_size=max_batch_size, model=model, )"
   ]
  },
  {
   "cell_type": "code",
   "execution_count": 6,
   "id": "97e11ba6",
   "metadata": {},
   "outputs": [
    {
     "name": "stdout",
     "output_type": "stream",
     "text": [
      "torch.cuda.memory_allocated: 1.840416GB\n",
      "torch.cuda.memory_reserved: 2.371094GB\n",
      "torch.cuda.max_memory_reserved: 2.371094GB\n"
     ]
    }
   ],
   "source": [
    "get_gpu_usage()"
   ]
  },
  {
   "cell_type": "code",
   "execution_count": 7,
   "id": "eae28749",
   "metadata": {},
   "outputs": [],
   "source": [
    "message_sample = [{\"role\": \"user\", \"content\": \"what is AI?\"}]"
   ]
  },
  {
   "cell_type": "code",
   "execution_count": 8,
   "id": "1ef686f0",
   "metadata": {},
   "outputs": [],
   "source": [
    "conversation = Conversation.from_json(message_sample)"
   ]
  },
  {
   "cell_type": "code",
   "execution_count": 9,
   "id": "c83beb7d",
   "metadata": {},
   "outputs": [
    {
     "name": "stdout",
     "output_type": "stream",
     "text": [
      "torch.cuda.memory_allocated: 1.840416GB\n",
      "torch.cuda.memory_reserved: 2.371094GB\n",
      "torch.cuda.max_memory_reserved: 2.371094GB\n"
     ]
    }
   ],
   "source": [
    "get_gpu_usage()"
   ]
  },
  {
   "cell_type": "code",
   "execution_count": 10,
   "id": "36c5d46c",
   "metadata": {},
   "outputs": [],
   "source": [
    "request_id = str(uuid.uuid4())\n",
    "data_request = DataRequest(\n",
    "        id=request_id, conversation=conversation, task=SupportedTasks.completion)"
   ]
  },
  {
   "cell_type": "code",
   "execution_count": 11,
   "id": "f17eca12",
   "metadata": {},
   "outputs": [],
   "source": [
    "app_processor.add_sample(data_request)"
   ]
  },
  {
   "cell_type": "code",
   "execution_count": 12,
   "id": "3ac34322",
   "metadata": {},
   "outputs": [
    {
     "name": "stdout",
     "output_type": "stream",
     "text": [
      "torch.cuda.memory_allocated: 1.840416GB\n",
      "torch.cuda.memory_reserved: 2.371094GB\n",
      "torch.cuda.max_memory_reserved: 2.371094GB\n"
     ]
    }
   ],
   "source": [
    "get_gpu_usage()"
   ]
  },
  {
   "cell_type": "code",
   "execution_count": 13,
   "id": "edc4bb2f",
   "metadata": {},
   "outputs": [
    {
     "name": "stdout",
     "output_type": "stream",
     "text": [
      "AI\n"
     ]
    }
   ],
   "source": [
    "response_list = app_processor.generate()\n",
    "print(response_list[0].token)"
   ]
  },
  {
   "cell_type": "code",
   "execution_count": 14,
   "id": "869d8f65",
   "metadata": {},
   "outputs": [
    {
     "name": "stdout",
     "output_type": "stream",
     "text": [
      "torch.cuda.memory_allocated: 1.848351GB\n",
      "torch.cuda.memory_reserved: 2.373047GB\n",
      "torch.cuda.max_memory_reserved: 2.373047GB\n"
     ]
    }
   ],
   "source": [
    "get_gpu_usage()"
   ]
  },
  {
   "cell_type": "code",
   "execution_count": 15,
   "id": "6ce5ab17",
   "metadata": {},
   "outputs": [
    {
     "name": "stdout",
     "output_type": "stream",
     "text": [
      " stands\n",
      " for\n",
      " artificial\n",
      " intelligence\n",
      ",\n",
      " which\n",
      " refers\n",
      " to\n",
      " the\n",
      " simulation\n",
      " of\n",
      " human\n",
      " intelligence\n",
      " in\n",
      " machines\n",
      ".\n",
      " It\n",
      " is\n",
      " a\n",
      " subset\n",
      " of\n",
      " artificial\n",
      " intelligence\n",
      " that\n",
      " involves\n",
      " the\n",
      " creation\n",
      " of\n",
      " intelligent\n",
      " machines\n",
      " that\n",
      " can\n",
      " perform\n",
      " tasks\n",
      " that\n",
      " typically\n",
      " require\n",
      " human\n",
      " intelligence\n",
      ",\n",
      " such\n",
      " as\n",
      " learning\n",
      ",\n",
      " reasoning\n",
      ",\n",
      " and\n",
      " problem\n",
      "-solving\n",
      ".\n",
      " AI\n",
      " can\n",
      " be\n",
      " used\n",
      " in\n",
      " a\n",
      " variety\n",
      " of\n",
      " applications\n",
      ",\n",
      " including\n",
      " robotics\n",
      ",\n",
      " autonomous\n",
      " vehicles\n",
      ",\n",
      " natural\n",
      " language\n",
      " processing\n",
      ",\n",
      " and\n",
      " predictive\n",
      " analytics\n",
      ".\n",
      "<|im_end|>\n",
      "\n",
      "\n",
      "<|endoftext|>\n",
      "Assistant\n",
      "Assistant\n",
      "Assistant\n",
      "Assistant\n",
      "Assistant\n",
      "Assistant\n",
      "Assistant\n",
      "Assistant\n",
      "Assistant\n",
      "Assistant\n",
      "Assistant\n",
      "Assistant\n",
      "Assistant\n",
      "Human\n",
      "Human\n",
      "Human\n",
      "Assistant\n",
      "Assistant\n",
      "Assistant\n",
      "Assistant\n",
      "Assistant\n",
      "Assistant\n",
      "Assistant\n"
     ]
    }
   ],
   "source": [
    "for i in range(100):\n",
    "    response_list = app_processor.generate()\n",
    "    print(response_list[0].token)"
   ]
  },
  {
   "cell_type": "code",
   "execution_count": 16,
   "id": "9f15b488",
   "metadata": {},
   "outputs": [
    {
     "name": "stdout",
     "output_type": "stream",
     "text": [
      "torch.cuda.memory_allocated: 1.848351GB\n",
      "torch.cuda.memory_reserved: 2.386719GB\n",
      "torch.cuda.max_memory_reserved: 2.386719GB\n"
     ]
    }
   ],
   "source": [
    "get_gpu_usage()"
   ]
  }
 ],
 "metadata": {
  "kernelspec": {
   "display_name": "llm_server",
   "language": "python",
   "name": "python3"
  },
  "language_info": {
   "codemirror_mode": {
    "name": "ipython",
    "version": 3
   },
   "file_extension": ".py",
   "mimetype": "text/x-python",
   "name": "python",
   "nbconvert_exporter": "python",
   "pygments_lexer": "ipython3",
   "version": "3.10.16"
  }
 },
 "nbformat": 4,
 "nbformat_minor": 5
}
