{
 "cells": [
  {
   "cell_type": "code",
   "execution_count": 4,
   "id": "2cb404a2",
   "metadata": {},
   "outputs": [],
   "source": [
    "import requests"
   ]
  },
  {
   "cell_type": "code",
   "execution_count": 5,
   "id": "b4e373fc",
   "metadata": {},
   "outputs": [],
   "source": [
    "message = [{\"role\": \"user\", \"content\": \"what is AI?\"}]"
   ]
  },
  {
   "cell_type": "code",
   "execution_count": null,
   "id": "75d09c4b",
   "metadata": {},
   "outputs": [],
   "source": [
    "response = requests.post(url='http://127.0.0.1:5000/complete',json=message, stream=True)"
   ]
  },
  {
   "cell_type": "code",
   "execution_count": null,
   "id": "ddc9136a",
   "metadata": {},
   "outputs": [
    {
     "name": "stdout",
     "output_type": "stream",
     "text": [
      "b'<!doctype html>\\n<html lang=en>\\n<title>415 Unsupported Media Type</title>\\n<h1>Unsupported Media Type</h1>\\n<p>Did not attempt to l'b'oad JSON data because the request Content-Type was not &#39;application/json&#39;.</p>\\n'"
     ]
    }
   ],
   "source": [
    "for part in response:\n",
    "    print(part,end='')"
   ]
  },
  {
   "cell_type": "code",
   "execution_count": null,
   "id": "28555d7d",
   "metadata": {},
   "outputs": [],
   "source": []
  }
 ],
 "metadata": {
  "kernelspec": {
   "display_name": "llm",
   "language": "python",
   "name": "python3"
  },
  "language_info": {
   "codemirror_mode": {
    "name": "ipython",
    "version": 3
   },
   "file_extension": ".py",
   "mimetype": "text/x-python",
   "name": "python",
   "nbconvert_exporter": "python",
   "pygments_lexer": "ipython3",
   "version": "3.10.0"
  }
 },
 "nbformat": 4,
 "nbformat_minor": 5
}
