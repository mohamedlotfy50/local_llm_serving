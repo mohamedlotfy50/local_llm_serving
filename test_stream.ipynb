{
 "cells": [
  {
   "cell_type": "code",
   "execution_count": 5,
   "id": "2cb404a2",
   "metadata": {},
   "outputs": [],
   "source": [
    "import requests\n",
    "import json"
   ]
  },
  {
   "cell_type": "code",
   "execution_count": 6,
   "id": "b4e373fc",
   "metadata": {},
   "outputs": [],
   "source": [
    "message = [{\"role\": \"user\", \"content\": \"what is 2 +2?\"}]"
   ]
  },
  {
   "cell_type": "code",
   "execution_count": 7,
   "id": "75d09c4b",
   "metadata": {},
   "outputs": [],
   "source": [
    "response = requests.post(url='http://127.0.0.1:5000/complete',json=message, stream=True)"
   ]
  },
  {
   "cell_type": "code",
   "execution_count": 8,
   "id": "ddc9136a",
   "metadata": {},
   "outputs": [
    {
     "name": "stdout",
     "output_type": "stream",
     "text": [
      "2 + 2 equals 4."
     ]
    }
   ],
   "source": [
    "for part in response:\n",
    "    print(json.loads(part)['content'],end='')"
   ]
  },
  {
   "cell_type": "code",
   "execution_count": null,
   "id": "28555d7d",
   "metadata": {},
   "outputs": [],
   "source": []
  }
 ],
 "metadata": {
  "kernelspec": {
   "display_name": "llm",
   "language": "python",
   "name": "python3"
  },
  "language_info": {
   "codemirror_mode": {
    "name": "ipython",
    "version": 3
   },
   "file_extension": ".py",
   "mimetype": "text/x-python",
   "name": "python",
   "nbconvert_exporter": "python",
   "pygments_lexer": "ipython3",
   "version": "3.10.0"
  }
 },
 "nbformat": 4,
 "nbformat_minor": 5
}
